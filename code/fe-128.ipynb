{
 "cells": [
  {
   "cell_type": "code",
   "execution_count": 1,
   "metadata": {},
   "outputs": [],
   "source": [
    "import numpy as np\n",
    "import pandas as pd\n",
    "import cv2\n",
    "from glob import glob"
   ]
  },
  {
   "cell_type": "code",
   "execution_count": 2,
   "metadata": {},
   "outputs": [],
   "source": [
    "imgs_train = glob(\"./trainval/*.png\")\n",
    "imgs_test = glob(\"./test/*.png\")"
   ]
  },
  {
   "cell_type": "code",
   "execution_count": 3,
   "metadata": {},
   "outputs": [],
   "source": [
    "# divide image into fixed size of grids\n",
    "\n",
    "def grid_partitioning(image, patch_size):\n",
    "    \n",
    "    patches = []\n",
    "    w, h, _ = image.shape\n",
    "    for x in range(0, h, patch_size):\n",
    "        for y in range(0, w, patch_size):\n",
    "            grid = image[x: x+patch_size, y:y+patch_size]\n",
    "            patches.append(grid)\n",
    "            \n",
    "    return patches"
   ]
  },
  {
   "cell_type": "code",
   "execution_count": 4,
   "metadata": {},
   "outputs": [],
   "source": [
    "col_num = int(1024/128)   # for 1024x1024 px image"
   ]
  },
  {
   "cell_type": "markdown",
   "metadata": {},
   "source": [
    "### CLD"
   ]
  },
  {
   "cell_type": "code",
   "execution_count": 5,
   "metadata": {},
   "outputs": [],
   "source": [
    "def representative_color(grid, patch_size):           # calculates the representative color of given patch(grid)\n",
    "    \n",
    "    blocks = np.zeros((8, 8, 3))\n",
    "    step = int(patch_size / 8)\n",
    "    \n",
    "    for r in range(8):           # divided into 64 blocks\n",
    "        for c in range(8):\n",
    "            \n",
    "            block = grid[r: r+step, c:c+step]\n",
    "            avg_color = np.mean(block, axis=(0,1))\n",
    "            avg_color = np.uint8(avg_color)\n",
    "            blocks[r, c, :] = avg_color\n",
    "            \n",
    "    return blocks"
   ]
  },
  {
   "cell_type": "code",
   "execution_count": 6,
   "metadata": {},
   "outputs": [],
   "source": [
    "def compute_dct(blocks):\n",
    "    \n",
    "    im = cv2.cvtColor(np.array(blocks, dtype=np.uint8), cv2.COLOR_BGR2YCR_CB)\n",
    "    y, cr, cb = cv2.split(im)\n",
    "    dct_y = cv2.dct(np.float32(y))\n",
    "    dct_cb = cv2.dct(np.float32(cb))\n",
    "    dct_cr = cv2.dct(np.float32(cr))\n",
    "    \n",
    "    return dct_y, dct_cb, dct_cr"
   ]
  },
  {
   "cell_type": "code",
   "execution_count": 7,
   "metadata": {},
   "outputs": [],
   "source": [
    "def zigzag(dct_y, dct_cb, dct_cr):\n",
    "    \n",
    "    dct_y_zigzag = []\n",
    "    dct_cb_zigzag = []\n",
    "    dct_cr_zigzag = []\n",
    "    \n",
    "    flip = True\n",
    "    \n",
    "    flipped_dct_y = np.fliplr(dct_y)\n",
    "    flipped_dct_cb = np.fliplr(dct_cb)\n",
    "    flipped_dct_cr = np.fliplr(dct_cr)\n",
    "    \n",
    "    for i in range(15):         # 15 = 8 + 8 -1\n",
    "        \n",
    "        k_diag = 7 - i          # 8 - 1\n",
    "        diag_y = np.diag(flipped_dct_y, k=k_diag)\n",
    "        diag_cb = np.diag(flipped_dct_cb, k=k_diag)\n",
    "        diag_cr = np.diag(flipped_dct_cr, k=k_diag)\n",
    "        \n",
    "        if flip:\n",
    "            diag_y = diag_y[::-1]\n",
    "            diag_cb = diag_cb[::-1]\n",
    "            diag_cr = diag_cr[::-1]\n",
    "            \n",
    "        dct_y_zigzag.append(diag_y)\n",
    "        dct_cb_zigzag.append(diag_cb)\n",
    "        dct_cr_zigzag.append(diag_cr)\n",
    "        \n",
    "        flip = not flip\n",
    "        \n",
    "    return np.concatenate([np.concatenate(dct_y_zigzag), np.concatenate(dct_cb_zigzag), np.concatenate(dct_cr_zigzag)])"
   ]
  },
  {
   "cell_type": "code",
   "execution_count": 8,
   "metadata": {},
   "outputs": [],
   "source": [
    "# find the neighbors of given cell\n",
    "\n",
    "X = col_num - 1    # column - 1\n",
    "Y = col_num - 1\n",
    "\n",
    "neighbors = lambda x, y : [(x2, y2) for x2 in range(x-1, x+2) for y2 in range(y-1, y+2) \n",
    "                           if (-1 < x <= X and -1 < y <= Y and (x != x2 or y != y2) and (0 <= x2 <= X) and (0 <= y2 <= Y))]"
   ]
  },
  {
   "cell_type": "markdown",
   "metadata": {},
   "source": [
    "* The Histogram Intersection Kernel is also known as the Min Kernel and has been proven useful in image classification.\n",
    "\n",
    "$ k(x,y) = \\sum_{i=1}^n min(x_i,y_i) $"
   ]
  },
  {
   "cell_type": "code",
   "execution_count": 9,
   "metadata": {},
   "outputs": [],
   "source": [
    "def histogram_intersection(x, y):\n",
    "    return np.sum(np.minimum(x, y))"
   ]
  },
  {
   "cell_type": "code",
   "execution_count": 10,
   "metadata": {},
   "outputs": [],
   "source": [
    "def hik(array, cols):\n",
    "    \n",
    "    hiks = []\n",
    "    for r in range(cols):\n",
    "        for c in range(cols):\n",
    "            nbrs = neighbors(r, c)         # returns indices of neighbors\n",
    "            hik = 0\n",
    "            for idx in nbrs:\n",
    "                x, y = idx\n",
    "                hik += histogram_intersection(array[r][c], array[x][y])\n",
    "            hiks.append(hik / len(nbrs))\n",
    "    return hiks"
   ]
  },
  {
   "cell_type": "code",
   "execution_count": 13,
   "metadata": {},
   "outputs": [],
   "source": [
    "def extract_clds(imgs):\n",
    "    \n",
    "    cld_hiks = []\n",
    "\n",
    "    for img in imgs:\n",
    "\n",
    "        img = cv2.imread(img)\n",
    "        grids = grid_partitioning(img, 128)\n",
    "\n",
    "        img_cld = []\n",
    "        for grid in grids:               # grid == patch\n",
    "            blocks = representative_color(grid, 128)\n",
    "            patch = zigzag(*compute_dct(blocks))\n",
    "            img_cld.append(patch)\n",
    "\n",
    "        img_cld = np.array([img_cld[i:i+col_num] for i in range(0, len(img_cld), col_num)])  # makes 2d array to find neighbors\n",
    "        cld_hiks.append(hik(img_cld, col_num))\n",
    "\n",
    "    return cld_hiks"
   ]
  },
  {
   "cell_type": "code",
   "execution_count": null,
   "metadata": {},
   "outputs": [],
   "source": [
    "cld_features_train = extract_clds(imgs_train)"
   ]
  },
  {
   "cell_type": "code",
   "execution_count": 14,
   "metadata": {},
   "outputs": [],
   "source": [
    "cld_features_test = extract_clds(imgs_test)"
   ]
  },
  {
   "cell_type": "markdown",
   "metadata": {},
   "source": [
    "### HOG"
   ]
  },
  {
   "cell_type": "code",
   "execution_count": 15,
   "metadata": {},
   "outputs": [],
   "source": [
    "from skimage.feature import hog"
   ]
  },
  {
   "cell_type": "code",
   "execution_count": 16,
   "metadata": {},
   "outputs": [],
   "source": [
    "def hog_descriptor(grid, cell_size):\n",
    "\n",
    "    fd, hog_image = hog(grid, orientations=9,\n",
    "                        pixels_per_cell=(cell_size, cell_size),\n",
    "                        cells_per_block=(1, 1),\n",
    "                        visualize=True,\n",
    "                        multichannel=True)\n",
    "\n",
    "    return fd, hog_image"
   ]
  },
  {
   "cell_type": "code",
   "execution_count": 17,
   "metadata": {},
   "outputs": [],
   "source": [
    "def extract_hogs(imgs):\n",
    "    \n",
    "    hog_hiks = []\n",
    "\n",
    "    for img in imgs:\n",
    "\n",
    "        img = cv2.imread(img)\n",
    "        grids = grid_partitioning(img, 256)\n",
    "\n",
    "        img_hog = []\n",
    "        for grid in grids:\n",
    "\n",
    "            fd, hog_image = hog_descriptor(grid, 32)\n",
    "\n",
    "            img_hog.append(fd)\n",
    "\n",
    "        img_hog = np.concatenate(img_hog)\n",
    "        img_hog = np.array([img_hog[i:i+col_num] for i in range(0, len(img_hog), col_num)])  # makes 2d array to find neighbors\n",
    "        hog_hiks.append(hik(img_hog, col_num))\n",
    "    \n",
    "    return hog_hiks"
   ]
  },
  {
   "cell_type": "code",
   "execution_count": null,
   "metadata": {},
   "outputs": [],
   "source": [
    "hog_features_train = extract_hogs(imgs_train)"
   ]
  },
  {
   "cell_type": "code",
   "execution_count": 18,
   "metadata": {},
   "outputs": [],
   "source": [
    "hog_features_test = extract_hogs(imgs_test)"
   ]
  },
  {
   "cell_type": "code",
   "execution_count": null,
   "metadata": {},
   "outputs": [],
   "source": [
    "stacked_tr = np.concatenate((hog_features_train, cld_features_train), axis=1)"
   ]
  },
  {
   "cell_type": "code",
   "execution_count": 19,
   "metadata": {},
   "outputs": [],
   "source": [
    "stacked_test = np.concatenate((hog_features_test, cld_features_test), axis=1)"
   ]
  },
  {
   "cell_type": "code",
   "execution_count": 20,
   "metadata": {},
   "outputs": [
    {
     "data": {
      "text/plain": [
       "(100, 128)"
      ]
     },
     "execution_count": 20,
     "metadata": {},
     "output_type": "execute_result"
    }
   ],
   "source": [
    "stacked_test.shape"
   ]
  },
  {
   "cell_type": "code",
   "execution_count": null,
   "metadata": {},
   "outputs": [],
   "source": [
    "np.savetxt('train_data128.csv', stacked_tr, delimiter=',')"
   ]
  },
  {
   "cell_type": "code",
   "execution_count": 21,
   "metadata": {},
   "outputs": [],
   "source": [
    "np.savetxt('test_data128.csv', stacked_test, delimiter=',')"
   ]
  },
  {
   "cell_type": "code",
   "execution_count": null,
   "metadata": {},
   "outputs": [],
   "source": []
  },
  {
   "cell_type": "code",
   "execution_count": null,
   "metadata": {},
   "outputs": [],
   "source": []
  },
  {
   "cell_type": "code",
   "execution_count": null,
   "metadata": {},
   "outputs": [],
   "source": []
  }
 ],
 "metadata": {
  "kernelspec": {
   "display_name": "Python 3",
   "language": "python",
   "name": "python3"
  },
  "language_info": {
   "codemirror_mode": {
    "name": "ipython",
    "version": 3
   },
   "file_extension": ".py",
   "mimetype": "text/x-python",
   "name": "python",
   "nbconvert_exporter": "python",
   "pygments_lexer": "ipython3",
   "version": "3.6.10"
  }
 },
 "nbformat": 4,
 "nbformat_minor": 2
}
