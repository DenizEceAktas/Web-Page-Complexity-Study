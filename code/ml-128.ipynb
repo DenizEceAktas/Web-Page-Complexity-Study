{
 "cells": [
  {
   "cell_type": "code",
   "execution_count": 16,
   "metadata": {},
   "outputs": [],
   "source": [
    "import numpy as np\n",
    "import pandas as pd\n",
    "from glob import glob\n",
    "from sklearn.model_selection import train_test_split\n",
    "import matplotlib.pyplot as plt"
   ]
  },
  {
   "cell_type": "code",
   "execution_count": 28,
   "metadata": {},
   "outputs": [],
   "source": [
    "imgs_tr = glob(\"./trainval/*.png\")\n",
    "imgs_test = glob(\"./test/*.png\")"
   ]
  },
  {
   "cell_type": "markdown",
   "metadata": {},
   "source": [
    "##### {\"very basic\" : 1, \"basic\" : 2, \"moderate\" : 3, \"complex\" : 4, \"very complex\" : 5}\n",
    "##### {range(5,20) : 1, range(20,40) : 2, range(40,60) : 3, range(60,80) : 4, range(80,100) : 5}"
   ]
  },
  {
   "cell_type": "markdown",
   "metadata": {},
   "source": [
    "#### Load the data"
   ]
  },
  {
   "cell_type": "markdown",
   "metadata": {},
   "source": [
    "Train & Validation ::"
   ]
  },
  {
   "cell_type": "code",
   "execution_count": 4,
   "metadata": {},
   "outputs": [],
   "source": [
    "train_data = np.loadtxt('train_data128.csv', delimiter=',')"
   ]
  },
  {
   "cell_type": "code",
   "execution_count": 5,
   "metadata": {},
   "outputs": [],
   "source": [
    "train = pd.DataFrame(columns=[\"ImageName\", \"Features\", \"Label\"])\n",
    "train['Features'] = train['Features'].astype(object)"
   ]
  },
  {
   "cell_type": "code",
   "execution_count": 6,
   "metadata": {},
   "outputs": [],
   "source": [
    "trainval_labels = pd.read_csv(\"label-trainval.csv\")"
   ]
  },
  {
   "cell_type": "markdown",
   "metadata": {},
   "source": [
    "Test ::"
   ]
  },
  {
   "cell_type": "code",
   "execution_count": 29,
   "metadata": {},
   "outputs": [],
   "source": [
    "test_data = np.loadtxt('test_data128.csv', delimiter=',')"
   ]
  },
  {
   "cell_type": "code",
   "execution_count": 30,
   "metadata": {},
   "outputs": [],
   "source": [
    "test = pd.DataFrame(columns=[\"ImageName\", \"Features\", \"Label\"])\n",
    "test['Features'] = test['Features'].astype(object)"
   ]
  },
  {
   "cell_type": "code",
   "execution_count": 31,
   "metadata": {},
   "outputs": [],
   "source": [
    "test_labels = pd.read_csv(\"label-test.csv\")"
   ]
  },
  {
   "cell_type": "code",
   "execution_count": 7,
   "metadata": {},
   "outputs": [],
   "source": [
    "labels = []\n",
    "\n",
    "for path in imgs_tr:\n",
    "    \n",
    "    img_name = path.split(\"\\\\\")[1]\n",
    "    mean_val = trainval_labels[trainval_labels[\"ImageName\"] == img_name][\"Mark\"].values[0]\n",
    "    if 5 < mean_val < 20:\n",
    "        labels.append(1)\n",
    "    elif 20 < mean_val < 40:\n",
    "        labels.append(2)\n",
    "    elif 40 < mean_val < 60:\n",
    "        labels.append(3)\n",
    "    elif 60 < mean_val < 80:\n",
    "        labels.append(4)\n",
    "    else:\n",
    "        labels.append(5)"
   ]
  },
  {
   "cell_type": "code",
   "execution_count": 8,
   "metadata": {},
   "outputs": [],
   "source": [
    "train[\"ImageName\"] = [p.split(\"\\\\\")[1] for p in imgs_tr]\n",
    "train[\"Label\"] = labels"
   ]
  },
  {
   "cell_type": "code",
   "execution_count": 9,
   "metadata": {},
   "outputs": [],
   "source": [
    "for i in range(len(imgs_tr)):\n",
    "    train.at[i, 'Features'] = train_data[i]"
   ]
  },
  {
   "cell_type": "code",
   "execution_count": 10,
   "metadata": {},
   "outputs": [
    {
     "data": {
      "text/html": [
       "<div>\n",
       "<style scoped>\n",
       "    .dataframe tbody tr th:only-of-type {\n",
       "        vertical-align: middle;\n",
       "    }\n",
       "\n",
       "    .dataframe tbody tr th {\n",
       "        vertical-align: top;\n",
       "    }\n",
       "\n",
       "    .dataframe thead th {\n",
       "        text-align: right;\n",
       "    }\n",
       "</style>\n",
       "<table border=\"1\" class=\"dataframe\">\n",
       "  <thead>\n",
       "    <tr style=\"text-align: right;\">\n",
       "      <th></th>\n",
       "      <th>ImageName</th>\n",
       "      <th>Features</th>\n",
       "      <th>Label</th>\n",
       "    </tr>\n",
       "  </thead>\n",
       "  <tbody>\n",
       "    <tr>\n",
       "      <th>0</th>\n",
       "      <td>00f8540c-262e-4908-80cd-5e93c176256c.png</td>\n",
       "      <td>[0.0, 0.0, 0.0, 0.0, 0.19999999975, 0.0, 0.0, ...</td>\n",
       "      <td>2</td>\n",
       "    </tr>\n",
       "    <tr>\n",
       "      <th>1</th>\n",
       "      <td>01a7fb0c-1207-496d-b470-dcf71c2547ef.png</td>\n",
       "      <td>[0.2620571230275546, 0.23890476024975973, 0.31...</td>\n",
       "      <td>4</td>\n",
       "    </tr>\n",
       "    <tr>\n",
       "      <th>2</th>\n",
       "      <td>01b912fd-ec3c-458e-a267-7e06c6f9b00a.png</td>\n",
       "      <td>[0.0, 0.0, 0.0, 0.0, 0.0, 0.0, 0.0, 0.0, 0.0, ...</td>\n",
       "      <td>3</td>\n",
       "    </tr>\n",
       "    <tr>\n",
       "      <th>3</th>\n",
       "      <td>03066ac7-f74a-4168-b563-23e72e1ff41e.png</td>\n",
       "      <td>[0.0, 0.0, 0.0, 0.0, 0.0, 0.0, 0.0, 0.0, 0.0, ...</td>\n",
       "      <td>2</td>\n",
       "    </tr>\n",
       "    <tr>\n",
       "      <th>4</th>\n",
       "      <td>0398f075-f27a-4c19-8e48-a05ff76d84b0.png</td>\n",
       "      <td>[0.0, 0.0, 0.0, 0.0, 0.0, 0.0, 0.0, 0.0, 0.0, ...</td>\n",
       "      <td>2</td>\n",
       "    </tr>\n",
       "    <tr>\n",
       "      <th>...</th>\n",
       "      <td>...</td>\n",
       "      <td>...</td>\n",
       "      <td>...</td>\n",
       "    </tr>\n",
       "    <tr>\n",
       "      <th>395</th>\n",
       "      <td>fd5b2732-1b16-40d2-ac98-1704281f1f88.png</td>\n",
       "      <td>[0.0, 0.0, 0.0, 0.0, 0.0, 0.0, 0.0, 0.0, 0.0, ...</td>\n",
       "      <td>3</td>\n",
       "    </tr>\n",
       "    <tr>\n",
       "      <th>396</th>\n",
       "      <td>fdb5d815-7032-46e4-aa80-9e8b61516ac9.png</td>\n",
       "      <td>[0.0, 0.0, 0.0, 0.0, 0.16816229241871464, 0.0,...</td>\n",
       "      <td>2</td>\n",
       "    </tr>\n",
       "    <tr>\n",
       "      <th>397</th>\n",
       "      <td>fdb8205b-831a-4f2f-83e8-b428b4723913.png</td>\n",
       "      <td>[0.22168293550562826, 0.05084320998420696, 0.0...</td>\n",
       "      <td>3</td>\n",
       "    </tr>\n",
       "    <tr>\n",
       "      <th>398</th>\n",
       "      <td>fdecb717-ae31-40c3-ae3f-34df4d6f44aa.png</td>\n",
       "      <td>[0.0826374192156888, 0.0, 0.05026927195117936,...</td>\n",
       "      <td>3</td>\n",
       "    </tr>\n",
       "    <tr>\n",
       "      <th>399</th>\n",
       "      <td>ff5e3f25-d2d0-43e3-bb0c-880bceec3fbd.png</td>\n",
       "      <td>[0.0, 0.0, 0.0, 0.0, 0.0, 0.0, 0.0, 0.0, 0.0, ...</td>\n",
       "      <td>2</td>\n",
       "    </tr>\n",
       "  </tbody>\n",
       "</table>\n",
       "<p>400 rows × 3 columns</p>\n",
       "</div>"
      ],
      "text/plain": [
       "                                    ImageName  \\\n",
       "0    00f8540c-262e-4908-80cd-5e93c176256c.png   \n",
       "1    01a7fb0c-1207-496d-b470-dcf71c2547ef.png   \n",
       "2    01b912fd-ec3c-458e-a267-7e06c6f9b00a.png   \n",
       "3    03066ac7-f74a-4168-b563-23e72e1ff41e.png   \n",
       "4    0398f075-f27a-4c19-8e48-a05ff76d84b0.png   \n",
       "..                                        ...   \n",
       "395  fd5b2732-1b16-40d2-ac98-1704281f1f88.png   \n",
       "396  fdb5d815-7032-46e4-aa80-9e8b61516ac9.png   \n",
       "397  fdb8205b-831a-4f2f-83e8-b428b4723913.png   \n",
       "398  fdecb717-ae31-40c3-ae3f-34df4d6f44aa.png   \n",
       "399  ff5e3f25-d2d0-43e3-bb0c-880bceec3fbd.png   \n",
       "\n",
       "                                              Features  Label  \n",
       "0    [0.0, 0.0, 0.0, 0.0, 0.19999999975, 0.0, 0.0, ...      2  \n",
       "1    [0.2620571230275546, 0.23890476024975973, 0.31...      4  \n",
       "2    [0.0, 0.0, 0.0, 0.0, 0.0, 0.0, 0.0, 0.0, 0.0, ...      3  \n",
       "3    [0.0, 0.0, 0.0, 0.0, 0.0, 0.0, 0.0, 0.0, 0.0, ...      2  \n",
       "4    [0.0, 0.0, 0.0, 0.0, 0.0, 0.0, 0.0, 0.0, 0.0, ...      2  \n",
       "..                                                 ...    ...  \n",
       "395  [0.0, 0.0, 0.0, 0.0, 0.0, 0.0, 0.0, 0.0, 0.0, ...      3  \n",
       "396  [0.0, 0.0, 0.0, 0.0, 0.16816229241871464, 0.0,...      2  \n",
       "397  [0.22168293550562826, 0.05084320998420696, 0.0...      3  \n",
       "398  [0.0826374192156888, 0.0, 0.05026927195117936,...      3  \n",
       "399  [0.0, 0.0, 0.0, 0.0, 0.0, 0.0, 0.0, 0.0, 0.0, ...      2  \n",
       "\n",
       "[400 rows x 3 columns]"
      ]
     },
     "execution_count": 10,
     "metadata": {},
     "output_type": "execute_result"
    }
   ],
   "source": [
    "train"
   ]
  },
  {
   "cell_type": "code",
   "execution_count": 32,
   "metadata": {},
   "outputs": [],
   "source": [
    "label_test = []\n",
    "\n",
    "for path in imgs_test:\n",
    "    \n",
    "    img_name = path.split(\"\\\\\")[1]\n",
    "    mean_val = test_labels[test_labels[\"ImageName\"] == img_name][\"Mark\"].values[0]\n",
    "    \n",
    "    if 5 < mean_val < 20:\n",
    "        label_test.append(1)\n",
    "    elif 20 < mean_val < 40:\n",
    "        label_test.append(2)\n",
    "    elif 40 < mean_val < 60:\n",
    "        label_test.append(3)\n",
    "    elif 60 < mean_val < 80:\n",
    "        label_test.append(4)\n",
    "    else:\n",
    "        label_test.append(5)\n",
    "        \n",
    "\n",
    "test[\"ImageName\"] = [p.split(\"\\\\\")[1] for p in imgs_test]\n",
    "test[\"Label\"] = label_test\n",
    "\n",
    "for i in range(len(imgs_test)):\n",
    "    test.at[i, 'Features'] = test_data[i]"
   ]
  },
  {
   "cell_type": "code",
   "execution_count": 33,
   "metadata": {},
   "outputs": [
    {
     "data": {
      "text/html": [
       "<div>\n",
       "<style scoped>\n",
       "    .dataframe tbody tr th:only-of-type {\n",
       "        vertical-align: middle;\n",
       "    }\n",
       "\n",
       "    .dataframe tbody tr th {\n",
       "        vertical-align: top;\n",
       "    }\n",
       "\n",
       "    .dataframe thead th {\n",
       "        text-align: right;\n",
       "    }\n",
       "</style>\n",
       "<table border=\"1\" class=\"dataframe\">\n",
       "  <thead>\n",
       "    <tr style=\"text-align: right;\">\n",
       "      <th></th>\n",
       "      <th>ImageName</th>\n",
       "      <th>Features</th>\n",
       "      <th>Label</th>\n",
       "    </tr>\n",
       "  </thead>\n",
       "  <tbody>\n",
       "    <tr>\n",
       "      <th>0</th>\n",
       "      <td>01f37629-030a-4b06-841e-686b94bedbb9.png</td>\n",
       "      <td>[0.0, 0.0, 0.0, 0.0, 0.0, 0.0, 0.0, 0.0, 0.0, ...</td>\n",
       "      <td>2</td>\n",
       "    </tr>\n",
       "    <tr>\n",
       "      <th>1</th>\n",
       "      <td>02d7021d-12f2-4149-99cf-c543151c0780.png</td>\n",
       "      <td>[0.0, 0.0, 0.0, 0.0, 0.0, 0.0, 0.0, 0.0, 0.0, ...</td>\n",
       "      <td>2</td>\n",
       "    </tr>\n",
       "    <tr>\n",
       "      <th>2</th>\n",
       "      <td>03dc264e-f9df-40fc-bac0-c8ac54202ffd.png</td>\n",
       "      <td>[0.0, 0.0, 0.0, 0.0, 0.0, 0.0, 0.0, 0.0, 0.0, ...</td>\n",
       "      <td>2</td>\n",
       "    </tr>\n",
       "    <tr>\n",
       "      <th>3</th>\n",
       "      <td>05525f8d-cfdc-4299-a9b6-afb4c96d22db.png</td>\n",
       "      <td>[0.0, 0.0, 0.0, 0.0, 0.19999999975, 0.0, 0.0, ...</td>\n",
       "      <td>2</td>\n",
       "    </tr>\n",
       "    <tr>\n",
       "      <th>4</th>\n",
       "      <td>071b0738-c89d-482f-9fe0-317404e402af.png</td>\n",
       "      <td>[0.049715092471143085, 0.0, 0.1262511382397950...</td>\n",
       "      <td>2</td>\n",
       "    </tr>\n",
       "    <tr>\n",
       "      <th>...</th>\n",
       "      <td>...</td>\n",
       "      <td>...</td>\n",
       "      <td>...</td>\n",
       "    </tr>\n",
       "    <tr>\n",
       "      <th>95</th>\n",
       "      <td>d7cca36d-8ef1-4b2a-8db9-565b28fa24b3.png</td>\n",
       "      <td>[0.0, 0.0, 0.0, 0.0, 0.0, 0.0, 0.0, 0.0, 0.0, ...</td>\n",
       "      <td>2</td>\n",
       "    </tr>\n",
       "    <tr>\n",
       "      <th>96</th>\n",
       "      <td>e50f3704-782c-4daf-94c9-17d171afd0e2.png</td>\n",
       "      <td>[0.0, 0.0, 0.0, 0.0, 0.0, 0.0, 0.0, 0.0, 0.0, ...</td>\n",
       "      <td>3</td>\n",
       "    </tr>\n",
       "    <tr>\n",
       "      <th>97</th>\n",
       "      <td>e7a9308b-5f4c-4abe-ad33-f6e3ac2401be.png</td>\n",
       "      <td>[0.1231757593713766, 0.0, 0.0, 0.0, 0.0, 0.0, ...</td>\n",
       "      <td>2</td>\n",
       "    </tr>\n",
       "    <tr>\n",
       "      <th>98</th>\n",
       "      <td>f25e44f5-d111-453c-b407-ae7039efac05.png</td>\n",
       "      <td>[0.0, 0.0, 0.0, 0.0, 0.14094205923119324, 0.0,...</td>\n",
       "      <td>3</td>\n",
       "    </tr>\n",
       "    <tr>\n",
       "      <th>99</th>\n",
       "      <td>fe2f05c8-8c75-4f7a-9928-85192c3dea46.png</td>\n",
       "      <td>[0.0, 0.0, 0.0, 0.0, 0.0, 0.0, 0.0, 0.0, 0.0, ...</td>\n",
       "      <td>3</td>\n",
       "    </tr>\n",
       "  </tbody>\n",
       "</table>\n",
       "<p>100 rows × 3 columns</p>\n",
       "</div>"
      ],
      "text/plain": [
       "                                   ImageName  \\\n",
       "0   01f37629-030a-4b06-841e-686b94bedbb9.png   \n",
       "1   02d7021d-12f2-4149-99cf-c543151c0780.png   \n",
       "2   03dc264e-f9df-40fc-bac0-c8ac54202ffd.png   \n",
       "3   05525f8d-cfdc-4299-a9b6-afb4c96d22db.png   \n",
       "4   071b0738-c89d-482f-9fe0-317404e402af.png   \n",
       "..                                       ...   \n",
       "95  d7cca36d-8ef1-4b2a-8db9-565b28fa24b3.png   \n",
       "96  e50f3704-782c-4daf-94c9-17d171afd0e2.png   \n",
       "97  e7a9308b-5f4c-4abe-ad33-f6e3ac2401be.png   \n",
       "98  f25e44f5-d111-453c-b407-ae7039efac05.png   \n",
       "99  fe2f05c8-8c75-4f7a-9928-85192c3dea46.png   \n",
       "\n",
       "                                             Features  Label  \n",
       "0   [0.0, 0.0, 0.0, 0.0, 0.0, 0.0, 0.0, 0.0, 0.0, ...      2  \n",
       "1   [0.0, 0.0, 0.0, 0.0, 0.0, 0.0, 0.0, 0.0, 0.0, ...      2  \n",
       "2   [0.0, 0.0, 0.0, 0.0, 0.0, 0.0, 0.0, 0.0, 0.0, ...      2  \n",
       "3   [0.0, 0.0, 0.0, 0.0, 0.19999999975, 0.0, 0.0, ...      2  \n",
       "4   [0.049715092471143085, 0.0, 0.1262511382397950...      2  \n",
       "..                                                ...    ...  \n",
       "95  [0.0, 0.0, 0.0, 0.0, 0.0, 0.0, 0.0, 0.0, 0.0, ...      2  \n",
       "96  [0.0, 0.0, 0.0, 0.0, 0.0, 0.0, 0.0, 0.0, 0.0, ...      3  \n",
       "97  [0.1231757593713766, 0.0, 0.0, 0.0, 0.0, 0.0, ...      2  \n",
       "98  [0.0, 0.0, 0.0, 0.0, 0.14094205923119324, 0.0,...      3  \n",
       "99  [0.0, 0.0, 0.0, 0.0, 0.0, 0.0, 0.0, 0.0, 0.0, ...      3  \n",
       "\n",
       "[100 rows x 3 columns]"
      ]
     },
     "execution_count": 33,
     "metadata": {},
     "output_type": "execute_result"
    }
   ],
   "source": [
    "test"
   ]
  },
  {
   "cell_type": "markdown",
   "metadata": {},
   "source": [
    "## Machine Learning"
   ]
  },
  {
   "cell_type": "markdown",
   "metadata": {},
   "source": [
    "#### Data is splitted as %70 train, %30 test"
   ]
  },
  {
   "cell_type": "code",
   "execution_count": 35,
   "metadata": {},
   "outputs": [],
   "source": [
    "X_train, X_val, y_train, y_val = train_test_split(train[\"Features\"].values, \n",
    "                                                    train[\"Label\"].values, \n",
    "                                                    test_size=0.30, \n",
    "                                                    random_state=42, \n",
    "                                                    shuffle=True)"
   ]
  },
  {
   "cell_type": "code",
   "execution_count": 36,
   "metadata": {},
   "outputs": [],
   "source": [
    "X_train = np.array([np.array([np.array(i) for i in x]) for x in X_train])\n",
    "y_train = np.array(y_train)\n",
    "\n",
    "X_val = np.array([np.array([np.array(i) for i in xt]) for xt in X_val])\n",
    "y_val = np.array(y_val)"
   ]
  },
  {
   "cell_type": "code",
   "execution_count": 37,
   "metadata": {},
   "outputs": [],
   "source": [
    "X_test = np.array([np.array([np.array(i) for i in x]) for x in test[\"Features\"].values])\n",
    "y_test = np.array(test[\"Label\"].values)"
   ]
  },
  {
   "cell_type": "code",
   "execution_count": 38,
   "metadata": {},
   "outputs": [],
   "source": [
    "import seaborn as sn\n",
    "from sklearn.metrics import classification_report, accuracy_score, confusion_matrix"
   ]
  },
  {
   "cell_type": "markdown",
   "metadata": {},
   "source": [
    "#### Random Forest"
   ]
  },
  {
   "cell_type": "code",
   "execution_count": 39,
   "metadata": {},
   "outputs": [
    {
     "data": {
      "text/plain": [
       "RandomForestClassifier(bootstrap=True, ccp_alpha=0.0, class_weight=None,\n",
       "                       criterion='gini', max_depth=None, max_features='auto',\n",
       "                       max_leaf_nodes=None, max_samples=None,\n",
       "                       min_impurity_decrease=0.0, min_impurity_split=None,\n",
       "                       min_samples_leaf=1, min_samples_split=2,\n",
       "                       min_weight_fraction_leaf=0.0, n_estimators=1000,\n",
       "                       n_jobs=None, oob_score=False, random_state=42, verbose=0,\n",
       "                       warm_start=False)"
      ]
     },
     "execution_count": 39,
     "metadata": {},
     "output_type": "execute_result"
    }
   ],
   "source": [
    "from sklearn.ensemble import RandomForestClassifier\n",
    "\n",
    "rf = RandomForestClassifier(n_estimators = 1000, random_state = 42)\n",
    "rf.fit(X_train, y_train)"
   ]
  },
  {
   "cell_type": "code",
   "execution_count": 40,
   "metadata": {},
   "outputs": [
    {
     "name": "stdout",
     "output_type": "stream",
     "text": [
      "Random Forest algorithm result:  0.5583333333333333\n"
     ]
    }
   ],
   "source": [
    "predictions = rf.predict(X_val)\n",
    "print(\"Random Forest algorithm result: \", rf.score(X_val, y_val))"
   ]
  },
  {
   "cell_type": "code",
   "execution_count": 41,
   "metadata": {},
   "outputs": [
    {
     "name": "stdout",
     "output_type": "stream",
     "text": [
      "              precision    recall  f1-score   support\n",
      "\n",
      "           1       0.00      0.00      0.00        17\n",
      "           2       0.58      0.92      0.71        71\n",
      "           3       0.29      0.07      0.11        30\n",
      "           4       0.00      0.00      0.00         1\n",
      "           5       0.00      0.00      0.00         1\n",
      "\n",
      "    accuracy                           0.56       120\n",
      "   macro avg       0.17      0.20      0.16       120\n",
      "weighted avg       0.41      0.56      0.45       120\n",
      "\n",
      "Accuracy: 0.5583333333333333\n"
     ]
    },
    {
     "name": "stderr",
     "output_type": "stream",
     "text": [
      "C:\\Users\\user\\Anaconda3\\lib\\site-packages\\sklearn\\metrics\\_classification.py:1272: UndefinedMetricWarning: Precision and F-score are ill-defined and being set to 0.0 in labels with no predicted samples. Use `zero_division` parameter to control this behavior.\n",
      "  _warn_prf(average, modifier, msg_start, len(result))\n"
     ]
    }
   ],
   "source": [
    "print(classification_report(y_val, predictions))\n",
    "print(\"Accuracy:\", accuracy_score(y_val, predictions))"
   ]
  },
  {
   "cell_type": "code",
   "execution_count": 42,
   "metadata": {},
   "outputs": [
    {
     "data": {
      "image/png": "[encoded data removed]",
      "text/plain": [
       "<Figure size 432x288 with 2 Axes>"
      ]
     },
     "metadata": {
      "needs_background": "light"
     },
     "output_type": "display_data"
    }
   ],
   "source": [
    "matrix = confusion_matrix(y_val, predictions)\n",
    "sn.heatmap(matrix, annot=True, cmap=\"BuPu\", annot_kws={\"size\": 12})\n",
    "\n",
    "plt.ylabel('True Label')\n",
    "plt.xlabel('Predicted Label')\n",
    "plt.title('Confusion Matrix for Random Forest Classifier')\n",
    "\n",
    "plt.ylim([5,0]) \n",
    "plt.tight_layout()\n",
    "plt.show()"
   ]
  },
  {
   "cell_type": "code",
   "execution_count": 43,
   "metadata": {},
   "outputs": [
    {
     "name": "stdout",
     "output_type": "stream",
     "text": [
      "Test Accuracy: 0.5\n"
     ]
    }
   ],
   "source": [
    "test_predictions = rf.predict(X_test)\n",
    "print(\"Test Accuracy:\", accuracy_score(y_test, test_predictions))"
   ]
  },
  {
   "cell_type": "markdown",
   "metadata": {},
   "source": [
    "#### XGBoost"
   ]
  },
  {
   "cell_type": "code",
   "execution_count": 44,
   "metadata": {},
   "outputs": [
    {
     "name": "stderr",
     "output_type": "stream",
     "text": [
      "C:\\Users\\user\\Anaconda3\\lib\\site-packages\\xgboost\\sklearn.py:892: UserWarning: The use of label encoder in XGBClassifier is deprecated and will be removed in a future release. To remove this warning, do the following: 1) Pass option use_label_encoder=False when constructing XGBClassifier object; and 2) Encode your labels (y) as integers starting with 0, i.e. 0, 1, 2, ..., [num_class - 1].\n",
      "  warnings.warn(label_encoder_deprecation_msg, UserWarning)\n"
     ]
    },
    {
     "name": "stdout",
     "output_type": "stream",
     "text": [
      "[16:04:01] WARNING: C:/Users/Administrator/workspace/xgboost-win64_release_1.3.0/src/learner.cc:1061: Starting in XGBoost 1.3.0, the default evaluation metric used with the objective 'multi:softprob' was changed from 'merror' to 'mlogloss'. Explicitly set eval_metric if you'd like to restore the old behavior.\n"
     ]
    },
    {
     "data": {
      "text/plain": [
       "XGBClassifier(base_score=0.5, booster='gbtree', colsample_bylevel=1,\n",
       "              colsample_bynode=1, colsample_bytree=1, gamma=0, gpu_id=-1,\n",
       "              importance_type='gain', interaction_constraints='',\n",
       "              learning_rate=0.300000012, max_delta_step=0, max_depth=6,\n",
       "              min_child_weight=1, missing=nan, monotone_constraints='()',\n",
       "              n_estimators=100, n_jobs=4, num_parallel_tree=1,\n",
       "              objective='multi:softprob', random_state=0, reg_alpha=0,\n",
       "              reg_lambda=1, scale_pos_weight=None, subsample=1,\n",
       "              tree_method='exact', use_label_encoder=True,\n",
       "              validate_parameters=1, verbosity=None)"
      ]
     },
     "execution_count": 44,
     "metadata": {},
     "output_type": "execute_result"
    }
   ],
   "source": [
    "import xgboost as xg\n",
    "\n",
    "xgb = xg.XGBClassifier()\n",
    "xgb.fit(X_train, y_train)"
   ]
  },
  {
   "cell_type": "code",
   "execution_count": 45,
   "metadata": {},
   "outputs": [
    {
     "name": "stdout",
     "output_type": "stream",
     "text": [
      "XGBoost algorithm result:  0.5166666666666667\n",
      "              precision    recall  f1-score   support\n",
      "\n",
      "           1       0.00      0.00      0.00        17\n",
      "           2       0.58      0.80      0.67        71\n",
      "           3       0.29      0.17      0.21        30\n",
      "           4       0.00      0.00      0.00         1\n",
      "           5       0.00      0.00      0.00         1\n",
      "\n",
      "    accuracy                           0.52       120\n",
      "   macro avg       0.18      0.19      0.18       120\n",
      "weighted avg       0.42      0.52      0.45       120\n",
      "\n",
      "Accuracy: 0.5166666666666667\n"
     ]
    },
    {
     "name": "stderr",
     "output_type": "stream",
     "text": [
      "C:\\Users\\user\\Anaconda3\\lib\\site-packages\\sklearn\\metrics\\_classification.py:1272: UndefinedMetricWarning: Precision and F-score are ill-defined and being set to 0.0 in labels with no predicted samples. Use `zero_division` parameter to control this behavior.\n",
      "  _warn_prf(average, modifier, msg_start, len(result))\n"
     ]
    }
   ],
   "source": [
    "preds = xgb.predict(X_val)\n",
    "print(\"XGBoost algorithm result: \", xgb.score(X_val, y_val))\n",
    "\n",
    "print(classification_report(y_val, preds))\n",
    "print(\"Accuracy:\", accuracy_score(y_val, preds))"
   ]
  },
  {
   "cell_type": "code",
   "execution_count": 46,
   "metadata": {},
   "outputs": [
    {
     "data": {
      "image/png": "[encoded data removed]",
      "text/plain": [
       "<Figure size 432x288 with 2 Axes>"
      ]
     },
     "metadata": {
      "needs_background": "light"
     },
     "output_type": "display_data"
    }
   ],
   "source": [
    "matrix = confusion_matrix(y_val, preds)\n",
    "sn.heatmap(matrix, annot=True, cmap=\"twilight_r\", annot_kws={\"size\": 12})\n",
    "\n",
    "plt.ylabel('True Label')\n",
    "plt.xlabel('Predicted Label')\n",
    "plt.title('Confusion Matrix for XGBoost Classifier')\n",
    "\n",
    "plt.ylim([5,0]) \n",
    "plt.tight_layout()\n",
    "plt.show()"
   ]
  },
  {
   "cell_type": "code",
   "execution_count": 47,
   "metadata": {},
   "outputs": [
    {
     "name": "stdout",
     "output_type": "stream",
     "text": [
      "Test Accuracy: 0.48\n"
     ]
    }
   ],
   "source": [
    "test_preds = xgb.predict(X_test)\n",
    "print(\"Test Accuracy:\", accuracy_score(y_test, test_preds))"
   ]
  },
  {
   "cell_type": "markdown",
   "metadata": {},
   "source": [
    "#### Support Vector Machines (SVM)"
   ]
  },
  {
   "cell_type": "code",
   "execution_count": 48,
   "metadata": {},
   "outputs": [
    {
     "data": {
      "text/plain": [
       "SVC(C=1.0, break_ties=False, cache_size=200, class_weight=None, coef0=0.0,\n",
       "    decision_function_shape='ovr', degree=3, gamma='scale', kernel='rbf',\n",
       "    max_iter=-1, probability=False, random_state=None, shrinking=True,\n",
       "    tol=0.001, verbose=False)"
      ]
     },
     "execution_count": 48,
     "metadata": {},
     "output_type": "execute_result"
    }
   ],
   "source": [
    "from sklearn import svm\n",
    "\n",
    "model = svm.SVC(kernel='rbf')   # Gaussian Kernel\n",
    "\n",
    "model.fit(X_train, y_train)"
   ]
  },
  {
   "cell_type": "code",
   "execution_count": 49,
   "metadata": {},
   "outputs": [
    {
     "name": "stdout",
     "output_type": "stream",
     "text": [
      "SVM algorithm result:  0.5916666666666667\n",
      "              precision    recall  f1-score   support\n",
      "\n",
      "           1       0.00      0.00      0.00        17\n",
      "           2       0.59      1.00      0.74        71\n",
      "           3       0.00      0.00      0.00        30\n",
      "           4       0.00      0.00      0.00         1\n",
      "           5       0.00      0.00      0.00         1\n",
      "\n",
      "    accuracy                           0.59       120\n",
      "   macro avg       0.12      0.20      0.15       120\n",
      "weighted avg       0.35      0.59      0.44       120\n",
      "\n",
      "Accuracy: 0.5916666666666667\n"
     ]
    },
    {
     "name": "stderr",
     "output_type": "stream",
     "text": [
      "C:\\Users\\user\\Anaconda3\\lib\\site-packages\\sklearn\\metrics\\_classification.py:1272: UndefinedMetricWarning: Precision and F-score are ill-defined and being set to 0.0 in labels with no predicted samples. Use `zero_division` parameter to control this behavior.\n",
      "  _warn_prf(average, modifier, msg_start, len(result))\n"
     ]
    }
   ],
   "source": [
    "y_pred = model.predict(X_val)\n",
    "print(\"SVM algorithm result: \", model.score(X_val, y_val))\n",
    "\n",
    "print(classification_report(y_val, y_pred))\n",
    "print(\"Accuracy:\", accuracy_score(y_val, y_pred))"
   ]
  },
  {
   "cell_type": "code",
   "execution_count": 50,
   "metadata": {},
   "outputs": [
    {
     "data": {
      "image/png": "[encoded data removed]",
      "text/plain": [
       "<Figure size 432x288 with 2 Axes>"
      ]
     },
     "metadata": {
      "needs_background": "light"
     },
     "output_type": "display_data"
    }
   ],
   "source": [
    "matrix = confusion_matrix(y_val, y_pred)\n",
    "sn.heatmap(matrix, annot=True, cmap=\"inferno_r\", annot_kws={\"size\": 12})\n",
    "\n",
    "plt.ylabel('True Label')\n",
    "plt.xlabel('Predicted Label')\n",
    "plt.title('Confusion Matrix for SVM')\n",
    "\n",
    "plt.ylim([5,0]) \n",
    "plt.tight_layout()\n",
    "plt.show()"
   ]
  },
  {
   "cell_type": "code",
   "execution_count": 51,
   "metadata": {},
   "outputs": [
    {
     "name": "stdout",
     "output_type": "stream",
     "text": [
      "Test Accuracy: 0.54\n"
     ]
    }
   ],
   "source": [
    "test_y_pred = model.predict(X_test)\n",
    "print(\"Test Accuracy:\", accuracy_score(y_test, test_y_pred))"
   ]
  },
  {
   "cell_type": "code",
   "execution_count": null,
   "metadata": {},
   "outputs": [],
   "source": []
  }
 ],
 "metadata": {
  "kernelspec": {
   "display_name": "Python 3",
   "language": "python",
   "name": "python3"
  },
  "language_info": {
   "codemirror_mode": {
    "name": "ipython",
    "version": 3
   },
   "file_extension": ".py",
   "mimetype": "text/x-python",
   "name": "python",
   "nbconvert_exporter": "python",
   "pygments_lexer": "ipython3",
   "version": "3.6.10"
  }
 },
 "nbformat": 4,
 "nbformat_minor": 2
}
